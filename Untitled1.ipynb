{
  "cells": [
    {
      "cell_type": "markdown",
      "metadata": {
        "id": "view-in-github",
        "colab_type": "text"
      },
      "source": [
        "<a href=\"https://colab.research.google.com/github/Aryansalve/image_classifier/blob/main/Untitled1.ipynb\" target=\"_parent\"><img src=\"https://colab.research.google.com/assets/colab-badge.svg\" alt=\"Open In Colab\"/></a>"
      ]
    },
    {
      "cell_type": "code",
      "execution_count": 2,
      "metadata": {
        "colab": {
          "base_uri": "https://localhost:8080/"
        },
        "id": "fD9K2pbFZI0N",
        "outputId": "82f9d7e7-4870-4047-c19f-43328fa7d312"
      },
      "outputs": [
        {
          "output_type": "stream",
          "name": "stdout",
          "text": [
            "Mounted at /content/gdrive\n"
          ]
        }
      ],
      "source": [
        "from google.colab import drive\n",
        "drive.mount(\"/content/gdrive\")"
      ]
    },
    {
      "cell_type": "code",
      "execution_count": 3,
      "metadata": {
        "id": "9mmWrpLXuszS"
      },
      "outputs": [],
      "source": [
        "import os\n",
        "import cv2\n",
        "from PIL import Image\n",
        "import tensorflow as tf\n",
        "from keras import backend as K\n",
        "from keras.models import load_model\n",
        "from tensorflow.keras.utils import img_to_array\n",
        "from tensorflow.keras.optimizers import Adam, RMSprop\n",
        "from tensorflow.keras.callbacks import ReduceLROnPlateau\n",
        "from tensorflow.keras.preprocessing.image import ImageDataGenerator"
      ]
    },
    {
      "cell_type": "code",
      "execution_count": 4,
      "metadata": {
        "colab": {
          "base_uri": "https://localhost:8080/"
        },
        "id": "S4nxCoYMvOwk",
        "outputId": "74ecbbb9-6ef9-4571-ad16-30584807a159"
      },
      "outputs": [
        {
          "output_type": "stream",
          "name": "stdout",
          "text": [
            "Done\n"
          ]
        }
      ],
      "source": [
        "#The python file and the archive have the same location\n",
        "from zipfile import ZipFile\n",
        "file_name = \"/content/gdrive/MyDrive/Classifier project/archive.zip\"\n",
        "with ZipFile(file_name,'r') as zip:\n",
        "  zip.extractall()\n",
        "  print('Done')"
      ]
    },
    {
      "cell_type": "code",
      "execution_count": 5,
      "metadata": {
        "id": "XLJZRjdV0FMz"
      },
      "outputs": [],
      "source": [
        "import pandas as pd\n",
        "import numpy as np\n",
        "import os\n",
        "from random import shuffle\n",
        "import shutil\n",
        "\n",
        "main_path='./output/bee-vs-wasp'\n",
        "training_path=main_path+'/training'\n",
        "testing_path=main_path+'/validation'\n",
        "bee_training=training_path+'/bee'\n",
        "wasp_training=training_path+'/wasp'\n",
        "other_insects_training=training_path+'/other_insects'\n",
        "other_noinsects_training=training_path+'/other_noinsects'\n",
        "bee_testing=testing_path+'/bee'\n",
        "wasp_testing=testing_path+'/wasp'\n",
        "other_insects_testing=testing_path+'/other_insects'\n",
        "other_noinsects_testing=testing_path+'/other_noinsects'\n",
        "def directory_creation(path):\n",
        "    os.mkdir(path)\n",
        "directory_creation('./output')\n",
        "directory_creation(main_path)\n",
        "directory_creation(training_path)\n",
        "directory_creation(testing_path)\n",
        "directory_creation(bee_training)\n",
        "directory_creation(wasp_training)\n",
        "directory_creation(other_insects_training)\n",
        "directory_creation(other_noinsects_training)\n",
        "directory_creation(bee_testing)\n",
        "directory_creation(wasp_testing)\n",
        "directory_creation(other_insects_testing)\n",
        "directory_creation(other_noinsects_testing)"
      ]
    },
    {
      "cell_type": "code",
      "execution_count": 6,
      "metadata": {
        "id": "aLxvIEcS2web"
      },
      "outputs": [],
      "source": [
        "def copy_files(original,dest_training,dest_testing):\n",
        "    l=os.listdir(original)\n",
        "    training_length=int(len(l)*0.8)\n",
        "    shuffle(l)\n",
        "    for i in range(len(l)):\n",
        "        if i<training_length:\n",
        "            shutil.copy(original+'/'+l[i],dest_training)\n",
        "        else:\n",
        "            shutil.copy(original+'/'+l[i],dest_testing)"
      ]
    },
    {
      "cell_type": "code",
      "execution_count": 7,
      "metadata": {
        "id": "Hra0fhIr2_MZ"
      },
      "outputs": [],
      "source": [
        "copy_files('/content/kaggle_bee_vs_wasp/bee1',bee_training,bee_testing)\n",
        "copy_files('/content/kaggle_bee_vs_wasp/bee2',bee_training,bee_testing)\n",
        "copy_files('/content/kaggle_bee_vs_wasp/wasp1',wasp_training,wasp_testing)\n",
        "copy_files('/content/kaggle_bee_vs_wasp/wasp2',wasp_training,wasp_testing)\n",
        "copy_files('/content/kaggle_bee_vs_wasp/other_insect',other_insects_training,other_insects_testing)\n",
        "copy_files('/content/kaggle_bee_vs_wasp/other_noinsect',other_noinsects_training,other_noinsects_testing)"
      ]
    },
    {
      "cell_type": "code",
      "execution_count": 8,
      "metadata": {
        "id": "86w5XNf6vIDm"
      },
      "outputs": [],
      "source": [
        "base_dir = '/content/output/bee-vs-wasp'\n",
        "train_dir = '/content/output/bee-vs-wasp/training'\n",
        "train_bee_dir = '/content/output/bee-vs-wasp/training/bee'\n",
        "train_wasp_dir = '/content/output/bee-vs-wasp/training/wasp'\n",
        "train_insect_dir = '/content/output/bee-vs-wasp/training/other_insects'\n",
        "train_other_dir = '/content/output/bee-vs-wasp/training/other_noinsects'\n",
        "test_dir = '/content/output/bee-vs-wasp/validation'\n",
        "test_bee_dir = '/content/output/bee-vs-wasp/validation/bee'\n",
        "test_wasp_dir = '/content/output/bee-vs-wasp/validation/wasp'\n",
        "test_insect_dir = '/content/output/bee-vs-wasp/validation/other_insects'\n",
        "test_other_dir = '/content/output/bee-vs-wasp/validation/other_noinsects'\n",
        "\n",
        "# valid_dir = '/content/drive/MyDrive/Image Classification/dataset/Skin cancer dataset/validation'\n",
        "# valid_bee_dir = '/content/drive/MyDrive/Image Classification/dataset/Skin cancer dataset/validation/bee'\n",
        "# valid_malign_dir = '/content/drive/MyDrive/Image Classification/dataset/Skin cancer dataset/validation/wasp'"
      ]
    },
    {
      "cell_type": "code",
      "execution_count": 9,
      "metadata": {
        "id": "FIlkfmAf1d8G"
      },
      "outputs": [],
      "source": [
        "num_bee_train = len(os.listdir(train_bee_dir))\n",
        "num_wasp_train = len(os.listdir(train_wasp_dir))\n",
        "num_insect_train = len(os.listdir(train_insect_dir))\n",
        "num_other_train = len(os.listdir(train_other_dir))\n",
        "num_bee_test = len(os.listdir(test_bee_dir))\n",
        "num_wasp_test= len(os.listdir(test_wasp_dir))\n",
        "num_insect_test = len(os.listdir(test_insect_dir))\n",
        "num_other_test= len(os.listdir(test_other_dir))\n",
        "\n",
        "# num_bee_validaition = len(os.listdir(valid_bee_dir))\n",
        "# num_wasp_validation= len(os.listdir(valid_malign_dir))"
      ]
    },
    {
      "cell_type": "code",
      "execution_count": 10,
      "metadata": {
        "colab": {
          "base_uri": "https://localhost:8080/"
        },
        "id": "P5m9a8AY2kH3",
        "outputId": "edbfc826-c688-4e55-d70c-eea1c938f786"
      },
      "outputs": [
        {
          "output_type": "stream",
          "name": "stdout",
          "text": [
            "Total Training bee Images 2546\n",
            "Total Training wasp Images 3953\n",
            "Total Training other Images 684\n",
            "Total Training insect Images 1951\n",
            "--\n",
            "Total Test bee Images 637\n",
            "Total Test wasp Images 990\n",
            "Total Test other Images 172\n",
            "Total Test insect Images 488\n",
            "--\n",
            "Total Training Images 9134\n",
            "Total Testing Images 2287\n"
          ]
        }
      ],
      "source": [
        "print(\"Total Training bee Images\",num_bee_train)\n",
        "print(\"Total Training wasp Images\",num_wasp_train)\n",
        "print(\"Total Training other Images\",num_other_train)\n",
        "print(\"Total Training insect Images\",num_insect_train)\n",
        "print(\"--\")\n",
        "print(\"Total Test bee Images\", num_bee_test)\n",
        "print(\"Total Test wasp Images\",num_wasp_test)\n",
        "print(\"Total Test other Images\", num_other_test)\n",
        "print(\"Total Test insect Images\",num_insect_test)\n",
        "total_train = num_bee_train+num_wasp_train+num_other_train+num_insect_train\n",
        "total_test = num_bee_test+num_wasp_test+num_other_test+num_insect_test\n",
        "print(\"--\")\n",
        "print(\"Total Training Images\",total_train)\n",
        "print(\"Total Testing Images\",total_test)"
      ]
    },
    {
      "cell_type": "code",
      "execution_count": 11,
      "metadata": {
        "id": "NxHHKOgL5VEo"
      },
      "outputs": [],
      "source": [
        "IMG_SHAPE  = 224\n",
        "batch_size = 32"
      ]
    },
    {
      "cell_type": "code",
      "execution_count": 12,
      "metadata": {
        "colab": {
          "base_uri": "https://localhost:8080/"
        },
        "id": "VAyTMCUd5Z8K",
        "outputId": "34501aea-cb01-4782-e69f-b526d522737d"
      },
      "outputs": [
        {
          "output_type": "stream",
          "name": "stdout",
          "text": [
            "Found 9134 images belonging to 4 classes.\n",
            "Found 2287 images belonging to 4 classes.\n"
          ]
        }
      ],
      "source": [
        "image_gen_train = ImageDataGenerator(rescale = 1./255)\n",
        "train_data_gen = image_gen_train.flow_from_directory(batch_size = batch_size,\n",
        "directory = train_dir,\n",
        "shuffle= True,\n",
        "target_size = (IMG_SHAPE,IMG_SHAPE),\n",
        "class_mode = 'binary')\n",
        "image_gen_test = ImageDataGenerator(rescale=1./255)\n",
        "test_data_gen = image_gen_test.flow_from_directory(batch_size=batch_size,\n",
        "directory=test_dir,\n",
        "target_size=(IMG_SHAPE, IMG_SHAPE),\n",
        "class_mode='binary')"
      ]
    },
    {
      "cell_type": "code",
      "execution_count": 13,
      "metadata": {
        "colab": {
          "base_uri": "https://localhost:8080/"
        },
        "id": "mOhrkgWW5zFY",
        "outputId": "d50b453a-a0cb-4e58-f090-9fafd59e8926"
      },
      "outputs": [
        {
          "output_type": "stream",
          "name": "stdout",
          "text": [
            "Downloading data from https://storage.googleapis.com/tensorflow/keras-applications/vgg16/vgg16_weights_tf_dim_ordering_tf_kernels_notop.h5\n",
            "58889256/58889256 [==============================] - 3s 0us/step\n"
          ]
        }
      ],
      "source": [
        "pre_trained_model = tf.keras.applications.VGG16(input_shape=(224, 224, 3), include_top=False, weights=\"imagenet\")"
      ]
    },
    {
      "cell_type": "code",
      "execution_count": 14,
      "metadata": {
        "colab": {
          "base_uri": "https://localhost:8080/"
        },
        "id": "n_JFI2dz534D",
        "outputId": "e6890746-5ccb-4ee9-a87c-489f8d27796e"
      },
      "outputs": [
        {
          "output_type": "stream",
          "name": "stdout",
          "text": [
            "input_1\n",
            "block1_conv1\n",
            "block1_conv2\n",
            "block1_pool\n",
            "block2_conv1\n",
            "block2_conv2\n",
            "block2_pool\n",
            "block3_conv1\n",
            "block3_conv2\n",
            "block3_conv3\n",
            "block3_pool\n",
            "block4_conv1\n",
            "block4_conv2\n",
            "block4_conv3\n",
            "block4_pool\n",
            "block5_conv1\n",
            "block5_conv2\n",
            "block5_conv3\n",
            "block5_pool\n"
          ]
        }
      ],
      "source": [
        "for layer in pre_trained_model.layers:\n",
        "  print(layer.name)\n",
        "  layer.trainable = False"
      ]
    },
    {
      "cell_type": "code",
      "execution_count": 15,
      "metadata": {
        "id": "G0qiDhA26J2a"
      },
      "outputs": [],
      "source": [
        "last_layer = pre_trained_model.get_layer('block5_pool')\n",
        "last_output = last_layer.output\n",
        "x = tf.keras.layers.GlobalMaxPooling2D()(last_output)\n",
        "x = tf.keras.layers.Dropout(0.5)(x)\n",
        "x = tf.keras.layers.Dense(4, activation='softmax')(x)"
      ]
    },
    {
      "cell_type": "code",
      "execution_count": 16,
      "metadata": {
        "id": "dx64-EVN7Fhq"
      },
      "outputs": [],
      "source": [
        "model = tf.keras.Model(pre_trained_model.input, x)"
      ]
    },
    {
      "cell_type": "code",
      "execution_count": 17,
      "metadata": {
        "id": "NykvHnw37INA"
      },
      "outputs": [],
      "source": [
        "model.compile(optimizer='adam', loss=tf.keras.losses.sparse_categorical_crossentropy, metrics=['acc'])"
      ]
    },
    {
      "cell_type": "code",
      "execution_count": 18,
      "metadata": {
        "colab": {
          "base_uri": "https://localhost:8080/"
        },
        "id": "EDMP7Xxi7ThM",
        "outputId": "d87add94-8183-47bd-845a-ef271db01a4f"
      },
      "outputs": [
        {
          "output_type": "stream",
          "name": "stdout",
          "text": [
            "Model: \"model\"\n",
            "_________________________________________________________________\n",
            " Layer (type)                Output Shape              Param #   \n",
            "=================================================================\n",
            " input_1 (InputLayer)        [(None, 224, 224, 3)]     0         \n",
            "                                                                 \n",
            " block1_conv1 (Conv2D)       (None, 224, 224, 64)      1792      \n",
            "                                                                 \n",
            " block1_conv2 (Conv2D)       (None, 224, 224, 64)      36928     \n",
            "                                                                 \n",
            " block1_pool (MaxPooling2D)  (None, 112, 112, 64)      0         \n",
            "                                                                 \n",
            " block2_conv1 (Conv2D)       (None, 112, 112, 128)     73856     \n",
            "                                                                 \n",
            " block2_conv2 (Conv2D)       (None, 112, 112, 128)     147584    \n",
            "                                                                 \n",
            " block2_pool (MaxPooling2D)  (None, 56, 56, 128)       0         \n",
            "                                                                 \n",
            " block3_conv1 (Conv2D)       (None, 56, 56, 256)       295168    \n",
            "                                                                 \n",
            " block3_conv2 (Conv2D)       (None, 56, 56, 256)       590080    \n",
            "                                                                 \n",
            " block3_conv3 (Conv2D)       (None, 56, 56, 256)       590080    \n",
            "                                                                 \n",
            " block3_pool (MaxPooling2D)  (None, 28, 28, 256)       0         \n",
            "                                                                 \n",
            " block4_conv1 (Conv2D)       (None, 28, 28, 512)       1180160   \n",
            "                                                                 \n",
            " block4_conv2 (Conv2D)       (None, 28, 28, 512)       2359808   \n",
            "                                                                 \n",
            " block4_conv3 (Conv2D)       (None, 28, 28, 512)       2359808   \n",
            "                                                                 \n",
            " block4_pool (MaxPooling2D)  (None, 14, 14, 512)       0         \n",
            "                                                                 \n",
            " block5_conv1 (Conv2D)       (None, 14, 14, 512)       2359808   \n",
            "                                                                 \n",
            " block5_conv2 (Conv2D)       (None, 14, 14, 512)       2359808   \n",
            "                                                                 \n",
            " block5_conv3 (Conv2D)       (None, 14, 14, 512)       2359808   \n",
            "                                                                 \n",
            " block5_pool (MaxPooling2D)  (None, 7, 7, 512)         0         \n",
            "                                                                 \n",
            " global_max_pooling2d (Globa  (None, 512)              0         \n",
            " lMaxPooling2D)                                                  \n",
            "                                                                 \n",
            " dropout (Dropout)           (None, 512)               0         \n",
            "                                                                 \n",
            " dense (Dense)               (None, 4)                 2052      \n",
            "                                                                 \n",
            "=================================================================\n",
            "Total params: 14,716,740\n",
            "Trainable params: 2,052\n",
            "Non-trainable params: 14,714,688\n",
            "_________________________________________________________________\n"
          ]
        }
      ],
      "source": [
        "model.summary()"
      ]
    },
    {
      "cell_type": "code",
      "execution_count": null,
      "metadata": {
        "colab": {
          "base_uri": "https://localhost:8080/"
        },
        "id": "xOdjoOb07fTE",
        "outputId": "163e2156-b928-4cdd-e7c2-71a562475cf9"
      },
      "outputs": [
        {
          "output_type": "stream",
          "name": "stdout",
          "text": [
            "Epoch 1/10\n",
            "142/142 [==============================] - 4509s 32s/step - loss: 1.4237 - acc: 0.4651 - val_loss: 0.7805 - val_acc: 0.6835\n",
            "Epoch 2/10\n",
            "142/142 [==============================] - 4482s 32s/step - loss: 0.9856 - acc: 0.6127 - val_loss: 0.6392 - val_acc: 0.7804\n",
            "Epoch 3/10\n",
            "142/142 [==============================] - 4331s 31s/step - loss: 0.7955 - acc: 0.6865 - val_loss: 0.5777 - val_acc: 0.7940\n",
            "Epoch 4/10\n",
            "142/142 [==============================] - 4313s 30s/step - loss: 0.7471 - acc: 0.7035 - val_loss: 0.5602 - val_acc: 0.8059\n",
            "Epoch 5/10\n",
            "142/142 [==============================] - 4342s 31s/step - loss: 0.7164 - acc: 0.7157 - val_loss: 0.5417 - val_acc: 0.8156\n",
            "Epoch 6/10\n",
            " 33/142 [=====>........................] - ETA: 37:01 - loss: 0.6401 - acc: 0.7538"
          ]
        }
      ],
      "source": [
        "vgg_classifier = model.fit(train_data_gen,\n",
        "steps_per_epoch=(total_train//(2*batch_size)),\n",
        "epochs = 10,\n",
        "validation_data=test_data_gen,\n",
        "validation_steps=(total_test//batch_size),\n",
        "batch_size = batch_size,)"
      ]
    }
  ],
  "metadata": {
    "colab": {
      "provenance": [],
      "authorship_tag": "ABX9TyOYQgZdyiG6nbjGj9VnxXp/",
      "include_colab_link": true
    },
    "kernelspec": {
      "display_name": "Python 3",
      "name": "python3"
    },
    "language_info": {
      "name": "python"
    }
  },
  "nbformat": 4,
  "nbformat_minor": 0
}